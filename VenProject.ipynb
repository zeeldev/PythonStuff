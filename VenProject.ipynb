{
 "cells": [
  {
   "cell_type": "code",
   "execution_count": 8,
   "id": "moved-wildlife",
   "metadata": {},
   "outputs": [
    {
     "output_type": "stream",
     "name": "stdout",
     "text": [
      "hello jupyter world\n"
     ]
    }
   ],
   "source": [
    "print(\"hello jupyter world\")"
   ]
  },
  {
   "cell_type": "code",
   "execution_count": 9,
   "id": "adjacent-prairie",
   "metadata": {},
   "outputs": [
    {
     "output_type": "stream",
     "name": "stdout",
     "text": [
      "{'Jack': 0, 'Jill': 0}\n"
     ]
    }
   ],
   "source": [
    "dict_players = {}\n",
    "dict_players['Jack'] = 0\n",
    "dict_players['Jill'] = 0\n",
    "print(dict_players)"
   ]
  },
  {
   "cell_type": "code",
   "execution_count": 10,
   "id": "documented-romania",
   "metadata": {},
   "outputs": [
    {
     "output_type": "stream",
     "name": "stdout",
     "text": [
      "{'Jack': 4, 'Jill': 5}\n"
     ]
    }
   ],
   "source": [
    "dict_players['Jack'] = 4\n",
    "dict_players['Jill'] = 5\n",
    "print(dict_players)"
   ]
  },
  {
   "cell_type": "code",
   "execution_count": 4,
   "id": "european-creativity",
   "metadata": {},
   "outputs": [],
   "source": [
    "dp = dict_players"
   ]
  },
  {
   "cell_type": "code",
   "execution_count": 5,
   "id": "published-microwave",
   "metadata": {},
   "outputs": [
    {
     "output_type": "stream",
     "name": "stdout",
     "text": [
      "{'Jack': 4, 'Jill': 5}\n"
     ]
    }
   ],
   "source": [
    "print(dp)"
   ]
  },
  {
   "cell_type": "code",
   "execution_count": 7,
   "id": "metric-easter",
   "metadata": {},
   "outputs": [
    {
     "output_type": "error",
     "ename": "TypeError",
     "evalue": "'type' object is not iterable",
     "traceback": [
      "\u001b[0;31m---------------------------------------------------------------------------\u001b[0m",
      "\u001b[0;31mTypeError\u001b[0m                                 Traceback (most recent call last)",
      "\u001b[0;32m<ipython-input-7-c75a3ead85f2>\u001b[0m in \u001b[0;36m<module>\u001b[0;34m\u001b[0m\n\u001b[0;32m----> 1\u001b[0;31m \u001b[0mlist\u001b[0m\u001b[0;34m(\u001b[0m\u001b[0mdict\u001b[0m\u001b[0;34m)\u001b[0m\u001b[0;34m\u001b[0m\u001b[0;34m\u001b[0m\u001b[0m\n\u001b[0m",
      "\u001b[0;31mTypeError\u001b[0m: 'type' object is not iterable"
     ]
    }
   ],
   "source": [
    "list(dict)"
   ]
  },
  {
   "cell_type": "code",
   "execution_count": 7,
   "id": "other-rough",
   "metadata": {},
   "outputs": [
    {
     "ename": "AttributeError",
     "evalue": "'dict' object has no attribute 'iterate'",
     "output_type": "error",
     "traceback": [
      "\u001b[0;31m---------------------------------------------------------------------------\u001b[0m",
      "\u001b[0;31mAttributeError\u001b[0m                            Traceback (most recent call last)",
      "\u001b[0;32m<ipython-input-7-50c125dabd49>\u001b[0m in \u001b[0;36m<module>\u001b[0;34m\u001b[0m\n\u001b[0;32m----> 1\u001b[0;31m \u001b[0mdp\u001b[0m\u001b[0;34m.\u001b[0m\u001b[0miterate\u001b[0m\u001b[0;34m(\u001b[0m\u001b[0;34m)\u001b[0m\u001b[0;34m\u001b[0m\u001b[0;34m\u001b[0m\u001b[0m\n\u001b[0m",
      "\u001b[0;31mAttributeError\u001b[0m: 'dict' object has no attribute 'iterate'"
     ]
    }
   ],
   "source": [
    "dp.iterate()"
   ]
  },
  {
   "cell_type": "code",
   "execution_count": null,
   "id": "automated-tunisia",
   "metadata": {},
   "outputs": [],
   "source": []
  }
 ],
 "metadata": {
  "kernelspec": {
   "display_name": "Python 3",
   "language": "python",
   "name": "python3"
  },
  "language_info": {
   "codemirror_mode": {
    "name": "ipython",
    "version": 3
   },
   "file_extension": ".py",
   "mimetype": "text/x-python",
   "name": "python",
   "nbconvert_exporter": "python",
   "pygments_lexer": "ipython3",
   "version": "3.8.5-final"
  }
 },
 "nbformat": 4,
 "nbformat_minor": 5
}