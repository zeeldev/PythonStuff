{
 "cells": [
  {
   "cell_type": "code",
   "execution_count": 2,
   "metadata": {},
   "outputs": [],
   "source": [
    "import os"
   ]
  },
  {
   "cell_type": "code",
   "execution_count": 3,
   "metadata": {},
   "outputs": [
    {
     "name": "stdout",
     "output_type": "stream",
     "text": [
      "SF212253_mvl_PART-3_Standard Shift Set up.sql\n"
     ]
    }
   ],
   "source": [
    "folder = r\"c:\\temp\\for_git_repo\"\n",
    "for file in os.listdir(folder):\n",
    "    print(file)\n",
    "    "
   ]
  },
  {
   "cell_type": "code",
   "execution_count": 4,
   "metadata": {},
   "outputs": [
    {
     "name": "stdout",
     "output_type": "stream",
     "text": [
      "['SF212253', 'mvl', 'PART-3', 'Standard Shift Set up.sql']\n"
     ]
    }
   ],
   "source": [
    "print(file.split('_'))"
   ]
  },
  {
   "cell_type": "code",
   "execution_count": 11,
   "metadata": {},
   "outputs": [
    {
     "name": "stdout",
     "output_type": "stream",
     "text": [
      "['Standard Shift Set up.sql']\n"
     ]
    }
   ],
   "source": [
    "comment = file.split('_')[-1:]\n",
    "print(comment)"
   ]
  }
 ],
 "metadata": {
  "kernelspec": {
   "display_name": "Python 3",
   "language": "python",
   "name": "python3"
  },
  "language_info": {
   "codemirror_mode": {
    "name": "ipython",
    "version": 3
   },
   "file_extension": ".py",
   "mimetype": "text/x-python",
   "name": "python",
   "nbconvert_exporter": "python",
   "pygments_lexer": "ipython3",
   "version": "3.10.10"
  },
  "orig_nbformat": 4,
  "vscode": {
   "interpreter": {
    "hash": "f754e4546ef73fc74457a6ad08de3906f7d6fed5b98553028fec023f3d393d55"
   }
  }
 },
 "nbformat": 4,
 "nbformat_minor": 2
}
